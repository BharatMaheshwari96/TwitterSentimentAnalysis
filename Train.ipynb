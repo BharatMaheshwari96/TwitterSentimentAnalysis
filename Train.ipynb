{
 "cells": [
  {
   "cell_type": "code",
   "execution_count": 1,
   "metadata": {},
   "outputs": [
    {
     "name": "stderr",
     "output_type": "stream",
     "text": [
      "D:\\Anaconda\\lib\\site-packages\\sklearn\\externals\\joblib\\__init__.py:15: FutureWarning: sklearn.externals.joblib is deprecated in 0.21 and will be removed in 0.23. Please import this functionality directly from joblib, which can be installed with: pip install joblib. If this warning is raised when loading pickled models, you may need to re-serialize those models with scikit-learn 0.21+.\n",
      "  warnings.warn(msg, category=FutureWarning)\n"
     ]
    }
   ],
   "source": [
    "import re, nltk\n",
    "import time\n",
    "import numpy as np\n",
    "import pandas as pd\n",
    "import seaborn as sns\n",
    "import matplotlib.pyplot as plt\n",
    "from bs4 import BeautifulSoup\n",
    "from nltk.stem import WordNetLemmatizer\n",
    "from nltk.corpus import stopwords\n",
    "from sklearn.feature_extraction.text import TfidfVectorizer\n",
    "from sklearn.model_selection import KFold\n",
    "from sklearn.svm import LinearSVC\n",
    "from sklearn.naive_bayes import MultinomialNB\n",
    "from sklearn.metrics import confusion_matrix\n",
    "from sklearn.externals import joblib"
   ]
  },
  {
   "cell_type": "code",
   "execution_count": 2,
   "metadata": {},
   "outputs": [],
   "source": [
    "def normalizer(Reviews): \n",
    "    soup = BeautifulSoup(Reviews, 'lxml')   # removing HTML encoding such as ‘&amp’,’&quot’\n",
    "    souped = soup.get_text()\n",
    "    only_words = re.sub(\"(@[A-Za-z0-9]+)|([^A-Za-z \\t])|(\\w+:\\/\\\\\\S+)\",\" \", souped) # removing @mentions, hashtags, urls.\n",
    "\n",
    "    tokens = nltk.word_tokenize(only_words)\n",
    "    removed_letters = [word for word in tokens if len(word)>2] # removing words with length less than or equal to 2\n",
    "    lower_case = [l.lower() for l in removed_letters]\n",
    "\n",
    "    stop_words = set(stopwords.words('english'))\n",
    "    filtered_result = list(filter(lambda l: l not in stop_words, lower_case))\n",
    "\n",
    "    wordnet_lemmatizer = WordNetLemmatizer()\n",
    "    lemmas = [wordnet_lemmatizer.lemmatize(t) for t in filtered_result]\n",
    "    return lemmas"
   ]
  },
  {
   "cell_type": "code",
   "execution_count": 3,
   "metadata": {},
   "outputs": [],
   "source": [
    "def Cross_validation(data, targets, tfidf, clf_cv, model_name): \n",
    "\n",
    "    kf = KFold(n_splits=10, shuffle=True, random_state=1) # 10-fold cross-validation\n",
    "    scores=[]\n",
    "    data_train_list = []\n",
    "    targets_train_list = []\n",
    "    data_test_list = []\n",
    "    targets_test_list = []\n",
    "    iteration = 0\n",
    "    print(\"Performing cross-validation for {}...\".format(model_name))\n",
    "    for train_index, test_index in kf.split(data):\n",
    "        iteration += 1\n",
    "        print(\"Iteration \", iteration)\n",
    "        data_train_cv, targets_train_cv = data[train_index], targets[train_index]\n",
    "        data_test_cv, targets_test_cv = data[test_index], targets[test_index]\n",
    "        data_train_list.append(data_train_cv) # appending training data for each iteration\n",
    "        data_test_list.append(data_test_cv) # appending test data for each iteration\n",
    "        targets_train_list.append(targets_train_cv) # appending training targets for each iteration\n",
    "        targets_test_list.append(targets_test_cv) # appending test targets for each iteration\n",
    "        tfidf.fit(data_train_cv) # learning vocabulary of training set\n",
    "        data_train_tfidf_cv = tfidf.transform(data_train_cv)\n",
    "        print(\"Shape of training data: \", data_train_tfidf_cv.shape)\n",
    "        data_test_tfidf_cv = tfidf.transform(data_test_cv)\n",
    "        print(\"Shape of test data: \", data_test_tfidf_cv.shape)\n",
    "        clf_cv.fit(data_train_tfidf_cv, targets_train_cv) # Fitting SVC\n",
    "        score = clf_cv.score(data_test_tfidf_cv, targets_test_cv) # Calculating accuracy\n",
    "        scores.append(score) # appending cross-validation accuracy for each iteration\n",
    "    print(\"List of cross-validation accuracies for {}: \".format(model_name), scores)\n",
    "    mean_accuracy = np.mean(scores)\n",
    "    print(\"Mean cross-validation accuracy for {}: \".format(model_name), mean_accuracy)\n",
    "    print(\"Best cross-validation accuracy for {}: \".format(model_name), max(scores))\n",
    "    max_acc_index = scores.index(max(scores)) # best cross-validation accuracy\n",
    "    max_acc_data_train = data_train_list[max_acc_index] # training data corresponding to best cross-validation accuracy\n",
    "    max_acc_data_test = data_test_list[max_acc_index] # test data corresponding to best cross-validation accuracy\n",
    "    max_acc_targets_train = targets_train_list[max_acc_index] # training targets corresponding to best cross-validation accuracy\n",
    "    max_acc_targets_test = targets_test_list[max_acc_index] # test targets corresponding to best cross-validation accuracy\n",
    "\n",
    "    return mean_accuracy, max_acc_data_train, max_acc_data_test, max_acc_targets_train, max_acc_targets_test"
   ]
  },
  {
   "cell_type": "code",
   "execution_count": 5,
   "metadata": {},
   "outputs": [],
   "source": [
    "def c_matrix(max_acc_data_train, max_acc_data_test, max_acc_targets_train, max_acc_targets_test, tfidf, targets, clf, model_name):\n",
    "    tfidf.fit(max_acc_data_train)\n",
    "    max_acc_data_train_tfidf = tfidf.transform(max_acc_data_train)\n",
    "    max_acc_data_test_tfidf = tfidf.transform(max_acc_data_test)\n",
    "    clf.fit(max_acc_data_train_tfidf, max_acc_targets_train) # Fitting Model\n",
    "    targets_pred = clf.predict(max_acc_data_test_tfidf) # Prediction on test data\n",
    "    conf_mat = confusion_matrix(max_acc_targets_test, targets_pred)\n",
    "    d={0:'Negative', 1: 'Positive'}\n",
    "    sentiment_df = targets.drop_duplicates().sort_values()\n",
    "    sentiment_df= sentiment_df.apply(lambda x:d[x])\n",
    "    sns.heatmap(conf_mat, annot=True, fmt='d', xticklabels=sentiment_df.values, yticklabels=sentiment_df.values)\n",
    "    plt.ylabel('Actual')\n",
    "    plt.xlabel('Predicted')\n",
    "    plt.title(\"Confusion Matrix (Best Accuracy) - {}\".format(model_name))\n",
    "    plt.show()"
   ]
  },
  {
   "cell_type": "code",
   "execution_count": 6,
   "metadata": {},
   "outputs": [],
   "source": [
    "def SVC_Save(data, targets, tfidf):\n",
    "    tfidf.fit(data) # learn vocabulary of entire data\n",
    "    data_tfidf = tfidf.transform(data)\n",
    "    pd.DataFrame.from_dict(data=dict([word, i] for i, word in enumerate(tfidf.get_feature_names())), orient='index').to_csv('vocabulary_SVC.csv', header=False)\n",
    "    print(\"Shape of tfidf matrix for saved SVC Model: \", data_tfidf.shape)\n",
    "    clf = LinearSVC().fit(data_tfidf, targets)\n",
    "    joblib.dump(clf, 'svc.sav')"
   ]
  },
  {
   "cell_type": "code",
   "execution_count": 7,
   "metadata": {},
   "outputs": [],
   "source": [
    "def NBC_Save(data, targets, tfidf):\n",
    "    tfidf.fit(data) # learn vocabulary of entire data\n",
    "    data_tfidf = tfidf.transform(data)\n",
    "    pd.DataFrame.from_dict(data=dict([word, i] for i, word in enumerate(tfidf.get_feature_names())), orient='index').to_csv('vocabulary_NBC.csv', header=False)\n",
    "    print(\"Shape of tfidf matrix for saved NBC Model: \", data_tfidf.shape)\n",
    "    clf = MultinomialNB(alpha=1.0).fit(data_tfidf, targets)\n",
    "    joblib.dump(clf, 'nbc.sav')"
   ]
  },
  {
   "cell_type": "code",
   "execution_count": 8,
   "metadata": {},
   "outputs": [],
   "source": [
    "def main():\n",
    "    #### Reading training dataset as dataframe\n",
    "    df = pd.read_csv(\"train.csv\", encoding = \"ISO-8859-1\")\n",
    "    pd.set_option('display.max_colwidth', -1) # Setting this so we can see the full content of cells\n",
    "    #### Normalizing Reviews\n",
    "    df['normalized_tweet'] = df.tweet.apply(normalizer)\n",
    "    df = df[df['normalized_tweet'].map(len) > 0] # removing rows with normalized reviews of length 0\n",
    "    print(\"Printing top 5 rows of dataframe showing original and cleaned reviews....\")\n",
    "    print(df[['tweet','normalized_tweet']].head())\n",
    "    d = {'Low': 0, 'High': 1}\n",
    "    df['label'] = df['label'].astype(str).map(d).fillna(df['label'])\n",
    "    #df.Rating.replace(to_replace=['Low', 'High'], value=[0, 1])\n",
    "    #df.drop(['Medicine', 'Condition'], axis=1, inplace=True)\n",
    "    #### Saving cleaned reviews to csv\n",
    "    df.to_csv('cleaned_tweet_data.csv', encoding='utf-8', index=False)\n",
    "    #### Reading cleaned reviews as dataframe\n",
    "    cleaned_data = pd.read_csv(\"cleaned_tweet_data.csv\", encoding = \"ISO-8859-1\")\n",
    "    pd.set_option('display.max_colwidth', -1)\n",
    "    data = cleaned_data.normalized_tweet\n",
    "    targets = cleaned_data.label\n",
    "    tfidf = TfidfVectorizer(sublinear_tf=True, min_df=30, norm='l2', ngram_range=(1,3)) # min_df=30 is a clever way of feature engineering\n",
    "\n",
    "    SVC_clf = LinearSVC() # SVC Model\n",
    "    SVC_mean_accuracy, max_acc_data_train, max_acc_data_test, max_acc_targets_train, max_acc_targets_test = Cross_validation(data, targets, tfidf, SVC_clf, \"SVC\") # SVC cross-validation\n",
    "    c_matrix(max_acc_data_train, max_acc_data_test, max_acc_targets_train, max_acc_targets_test, tfidf, targets, SVC_clf, \"SVC\") # SVC confusion matrix\n",
    "\n",
    "    NBC_clf = MultinomialNB() # NBC Model\n",
    "    NBC_mean_accuracy, max_acc_data_train, max_acc_data_test, max_acc_targets_train, max_acc_targets_test = Cross_validation(data, targets, tfidf, NBC_clf, \"NBC\") # NBC cross-validation\n",
    "    c_matrix(max_acc_data_train, max_acc_data_test, max_acc_targets_train, max_acc_targets_test, tfidf, targets, NBC_clf, \"NBC\") # NBC confusion matrix\n",
    "\n",
    "    if SVC_mean_accuracy > NBC_mean_accuracy:\n",
    "        SVC_Save(data, targets, tfidf)\n",
    "    else:\n",
    "        NBC_Save(data, targets, tfidf)"
   ]
  },
  {
   "cell_type": "code",
   "execution_count": 9,
   "metadata": {},
   "outputs": [
    {
     "name": "stderr",
     "output_type": "stream",
     "text": [
      "[nltk_data] Downloading package stopwords to\n",
      "[nltk_data]     C:\\Users\\bhara\\AppData\\Roaming\\nltk_data...\n",
      "[nltk_data]   Package stopwords is already up-to-date!\n",
      "[nltk_data] Downloading package wordnet to\n",
      "[nltk_data]     C:\\Users\\bhara\\AppData\\Roaming\\nltk_data...\n",
      "[nltk_data]   Package wordnet is already up-to-date!\n",
      "D:\\Anaconda\\lib\\site-packages\\ipykernel_launcher.py:4: FutureWarning: Passing a negative integer is deprecated in version 1.0 and will not be supported in future version. Instead, use None to not limit the column width.\n",
      "  after removing the cwd from sys.path.\n"
     ]
    },
    {
     "name": "stdout",
     "output_type": "stream",
     "text": [
      "Printing top 5 rows of dataframe showing original and cleaned reviews....\n",
      "                                                                                                                                   tweet  \\\n",
      "0  #fingerprint #Pregnancy Test https://goo.gl/h1MfQV #android #apps #beautiful #cute #health #igers #iphoneonly #iphonesia #iphone        \n",
      "1  Finally a transparant silicon case ^^ Thanks to my uncle :) #yay #Sony #Xperia #S #sonyexperiasâ¦ http://instagram.com/p/YGEt5JC6JM/   \n",
      "2  We love this! Would you go? #talk #makememories #unplug #relax #iphone #smartphone #wifi #connect... http://fb.me/6N3LsUpCu             \n",
      "3  I'm wired I know I'm George I was made that way ;) #iphone #cute #daventry #home http://instagr.am/p/Li_5_ujS4k/                        \n",
      "4  What amazing service! Apple won't even talk to me about a question I have unless I pay them $19.95 for their stupid support!            \n",
      "\n",
      "                                                                                                                normalized_tweet  \n",
      "0  [fingerprint, pregnancy, test, http, goo, mfqv, android, apps, beautiful, cute, health, igers, iphoneonly, iphonesia, iphone]  \n",
      "1  [finally, transparant, silicon, case, thanks, uncle, yay, sony, xperia, sonyexperias, http, instagram, com, yget]              \n",
      "2  [love, would, talk, makememories, unplug, relax, iphone, smartphone, wifi, connect, http, lsupcu]                              \n",
      "3  [wired, know, george, made, way, iphone, cute, daventry, home, http, instagr, ujs]                                             \n",
      "4  [amazing, service, apple, even, talk, question, unless, pay, stupid, support]                                                  \n"
     ]
    },
    {
     "name": "stderr",
     "output_type": "stream",
     "text": [
      "D:\\Anaconda\\lib\\site-packages\\ipykernel_launcher.py:18: FutureWarning: Passing a negative integer is deprecated in version 1.0 and will not be supported in future version. Instead, use None to not limit the column width.\n"
     ]
    },
    {
     "name": "stdout",
     "output_type": "stream",
     "text": [
      "Performing cross-validation for SVC...\n",
      "Iteration  1\n",
      "Shape of training data:  (7127, 603)\n",
      "Shape of test data:  (792, 603)\n",
      "Iteration  2\n",
      "Shape of training data:  (7127, 596)\n",
      "Shape of test data:  (792, 596)\n",
      "Iteration  3\n",
      "Shape of training data:  (7127, 603)\n",
      "Shape of test data:  (792, 603)\n",
      "Iteration  4\n",
      "Shape of training data:  (7127, 598)\n",
      "Shape of test data:  (792, 598)\n",
      "Iteration  5\n",
      "Shape of training data:  (7127, 605)\n",
      "Shape of test data:  (792, 605)\n",
      "Iteration  6\n",
      "Shape of training data:  (7127, 611)\n",
      "Shape of test data:  (792, 611)\n",
      "Iteration  7\n",
      "Shape of training data:  (7127, 602)\n",
      "Shape of test data:  (792, 602)\n",
      "Iteration  8\n",
      "Shape of training data:  (7127, 608)\n",
      "Shape of test data:  (792, 608)\n",
      "Iteration  9\n",
      "Shape of training data:  (7127, 602)\n",
      "Shape of test data:  (792, 602)\n",
      "Iteration  10\n",
      "Shape of training data:  (7128, 634)\n",
      "Shape of test data:  (791, 634)\n",
      "List of cross-validation accuracies for SVC:  [0.8838383838383839, 0.88510101010101, 0.86489898989899, 0.9053030303030303, 0.8876262626262627, 0.875, 0.8901515151515151, 0.8825757575757576, 0.8825757575757576, 0.8925410872313527]\n",
      "Mean cross-validation accuracy for SVC:  0.884961179430206\n",
      "Best cross-validation accuracy for SVC:  0.9053030303030303\n"
     ]
    },
    {
     "data": {
      "image/png": "[encoded data removed]",
      "text/plain": [
       "<Figure size 432x288 with 2 Axes>"
      ]
     },
     "metadata": {
      "needs_background": "light"
     },
     "output_type": "display_data"
    },
    {
     "name": "stdout",
     "output_type": "stream",
     "text": [
      "Performing cross-validation for NBC...\n",
      "Iteration  1\n",
      "Shape of training data:  (7127, 603)\n",
      "Shape of test data:  (792, 603)\n",
      "Iteration  2\n",
      "Shape of training data:  (7127, 596)\n",
      "Shape of test data:  (792, 596)\n",
      "Iteration  3\n",
      "Shape of training data:  (7127, 603)\n",
      "Shape of test data:  (792, 603)\n",
      "Iteration  4\n",
      "Shape of training data:  (7127, 598)\n",
      "Shape of test data:  (792, 598)\n",
      "Iteration  5\n",
      "Shape of training data:  (7127, 605)\n",
      "Shape of test data:  (792, 605)\n",
      "Iteration  6\n",
      "Shape of training data:  (7127, 611)\n",
      "Shape of test data:  (792, 611)\n",
      "Iteration  7\n",
      "Shape of training data:  (7127, 602)\n",
      "Shape of test data:  (792, 602)\n",
      "Iteration  8\n",
      "Shape of training data:  (7127, 608)\n",
      "Shape of test data:  (792, 608)\n",
      "Iteration  9\n",
      "Shape of training data:  (7127, 602)\n",
      "Shape of test data:  (792, 602)\n",
      "Iteration  10\n",
      "Shape of training data:  (7128, 634)\n",
      "Shape of test data:  (791, 634)\n",
      "List of cross-validation accuracies for NBC:  [0.8813131313131313, 0.8863636363636364, 0.8636363636363636, 0.8888888888888888, 0.8863636363636364, 0.8737373737373737, 0.875, 0.8901515151515151, 0.8838383838383839, 0.8925410872313527]\n",
      "Mean cross-validation accuracy for NBC:  0.8821834016524281\n",
      "Best cross-validation accuracy for NBC:  0.8925410872313527\n"
     ]
    },
    {
     "data": {
      "image/png": "[encoded data removed]",
      "text/plain": [
       "<Figure size 432x288 with 2 Axes>"
      ]
     },
     "metadata": {
      "needs_background": "light"
     },
     "output_type": "display_data"
    },
    {
     "name": "stdout",
     "output_type": "stream",
     "text": [
      "Shape of tfidf matrix for saved SVC Model:  (7919, 681)\n"
     ]
    }
   ],
   "source": [
    "import nltk\n",
    "nltk.download('stopwords')\n",
    "nltk.download('wordnet')\n",
    "if __name__ == \"__main__\":\n",
    "    main()"
   ]
  },
  {
   "cell_type": "code",
   "execution_count": null,
   "metadata": {},
   "outputs": [],
   "source": []
  }
 ],
 "metadata": {
  "kernelspec": {
   "display_name": "Python 3",
   "language": "python",
   "name": "python3"
  },
  "language_info": {
   "codemirror_mode": {
    "name": "ipython",
    "version": 3
   },
   "file_extension": ".py",
   "mimetype": "text/x-python",
   "name": "python",
   "nbconvert_exporter": "python",
   "pygments_lexer": "ipython3",
   "version": "3.7.6"
  }
 },
 "nbformat": 4,
 "nbformat_minor": 4
}
